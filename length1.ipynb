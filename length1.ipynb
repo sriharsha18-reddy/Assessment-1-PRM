{
 "cells": [
  {
   "cell_type": "code",
   "execution_count": 3,
   "metadata": {},
   "outputs": [
    {
     "name": "stdout",
     "output_type": "stream",
     "text": [
      "Valid Triangle\n",
      "Valid Rectangle\n"
     ]
    }
   ],
   "source": [
    "class Validation:\n",
    "    \n",
    "    def __init__(self,slides):\n",
    "        self.slides = slides\n",
    "    \n",
    "    def triangle_validation(self):\n",
    "        a,b,c = self.slides\n",
    "        \n",
    "        if  b+c>c  or a+c>b or a+b>c:\n",
    "            return \"Valid Triangle\"\n",
    "        else:\n",
    "            return \"Invalid Triangle\"\n",
    "    \n",
    "    def rectangle_validation(self):\n",
    "        a,b,c,d = self.slides\n",
    "\n",
    "        if a==b and c==d:\n",
    "            return \"Valid Rectangle\"\n",
    "        elif a ==c and b ==d:\n",
    "            return \"Valid Rectangle\"\n",
    "        elif a==d  and b ==c:\n",
    "            return \"Valid Rectangle\"\n",
    "        else:\n",
    "            return \"Invalid Rectangle\"\n",
    "\n",
    "check2 = Validation([3,4,5])\n",
    "print(check2.triangle_validation())\n",
    "\n",
    "check = Validation([2,4,4,2])\n",
    "print(check.rectangle_validation())"
   ]
  }
 ],
 "metadata": {
  "kernelspec": {
   "display_name": "Python 3",
   "language": "python",
   "name": "python3"
  },
  "language_info": {
   "codemirror_mode": {
    "name": "ipython",
    "version": 3
   },
   "file_extension": ".py",
   "mimetype": "text/x-python",
   "name": "python",
   "nbconvert_exporter": "python",
   "pygments_lexer": "ipython3",
   "version": "3.11.2"
  },
  "orig_nbformat": 4
 },
 "nbformat": 4,
 "nbformat_minor": 2
}
